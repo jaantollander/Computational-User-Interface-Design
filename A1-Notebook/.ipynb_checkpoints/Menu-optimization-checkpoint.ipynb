{
 "cells": [
  {
   "cell_type": "markdown",
   "metadata": {
    "nbpresent": {
     "id": "94692a50-d205-44a0-b4c2-ed6e63a6893f"
    }
   },
   "source": [
    "## ELEC-E7851 Computational User Interface Design\n",
    "## Lecture 1: Computational Design with Combinatorial Optimization\n",
    "\n",
    "\n",
    "# Menu Design with Combinatorial Optimization\n",
    "\n",
    "### <b>[Antti Oulasvirta](http://users.comnet.aalto.fi/oulasvir/)</b> / Aalto University, Fall 2018"
   ]
  },
  {
   "cell_type": "markdown",
   "metadata": {
    "nbpresent": {
     "id": "06e95d9c-25d9-42ea-b6e1-70f0d31b05c8"
    }
   },
   "source": [
    "### Contents\n",
    "1. Background\n",
    "2. Basic concepts\n",
    "3. Linear menu\n",
    "4. Basic concepts: Revisited\n",
    "5. Toolbar\n",
    "6. Advanced topics\n",
    "\n",
    "### In this unit, you will learn how to ...\n",
    "\n",
    "* define a simple layout design task as a combinatorial optimization problem\n",
    "* encode design goals and assumptions in its objective function\n",
    "* choose and tune a simple search algorithm (solver)\n",
    " \n",
    "### Practically, you will ...\n",
    "\n",
    "* implement a random search -based optimizer for layout problems (linear menus, toolbars)\n",
    "* discuss what interface design 'means' from a combinatorial perspective (and learn what makes it hard)\n",
    "* explore consequences assumptions about user (in the objective function)\n",
    "* boost efficiency with more advanced black box optimization methods (e.g., simulated annealing)\n",
    "\n",
    "The notebook is an extensible plug-and-play approach to learn about layout design problems. \n",
    "\n",
    "<p>\n",
    "<div class=\"alert alert-block alert-success\"> \n",
    "<h3>Note about exercises</h3> \n",
    "<br>\n",
    "Some exercises have been pre-filled in this notebook. Assignments (Tue Oct 30) will extend on this notebook.</div>\n",
    "</p>"
   ]
  },
  {
   "cell_type": "markdown",
   "metadata": {
    "nbpresent": {
     "id": "c042b825-38ba-4cac-b80b-194100103daf"
    }
   },
   "source": [
    "# 1. Background\n",
    "-----------------\n",
    "\n",
    "<p>\n",
    "<div class=\"alert alert-block alert-success\"> \n",
    "<h3>In-class discussion.</h3> \n",
    "<br>\n",
    "What is is the link between computer science and optimization?</div>\n",
    "</p>\n",
    "\n",
    "### Optimization: A formalism for generating and adapting user interface designs \n",
    "\n",
    "*Optimization* refers to both the **outcome** (optimal design) and the **process** of systematically improving a design. User interface design, then, is algorithmic combination of discrete design decisions to obtain an optimal solution defined by an objective function. \n",
    "\n",
    "**Model-based combinatorial optimization** invites contributions from computer scientists, designers, and behavioral scientists. Three types of problems define the approach:\n",
    "1. Modeling: Representations of design problem and knowledge in code\n",
    "2. Inference: Inference of parameters of that model that best describe the designer's or users' goals.\n",
    "3. Search: Algorithmically searchign for best solutions to the obtained problem.\n",
    "\n",
    "Combinatorial optimization can be used not only to find an optimal design but to *assist a designer in various problems encountered in design*, such as:\n",
    "* a unique (maximally different but equally good) solution\n",
    "* a design that strikes the best compromise among competing objectives\n",
    "* a design that is robust to changes in assumptions (e.g., about conditions of use or users)\n",
    "* a design achieved by minimal changes to a current design\n",
    "* a design that is within some k% from the present design. \n",
    "\n",
    "### Challenges \n",
    "\n",
    "Combinatorial optimization is a principled approach that insists on rigorous definitions of the design task and objectives. Be warned about:\n",
    "\n",
    "1. Ramp-up costs: Formal definition and development of search methods can be laborious and risky;\n",
    "2. At times exceedingly hard problems: While modest background in computer science suffices for first probes, real-world cases can be prohibitively hard and insist on professional support;\n",
    "3. Knowledge gap: Defining meaningful objective functions (e.g., aesthetics, learnability) may require support from a cognitive or behavioral scientist with mathematical abilities."
   ]
  },
  {
   "cell_type": "markdown",
   "metadata": {},
   "source": [
    "# 2. Basic concepts\n",
    "\n",
    "---------------\n",
    "\n",
    "A **design task** consists of three elements:\n",
    "1. **design space**: a finite set of alternative designs (search space; a.k.a. feasible set, candidate set); \n",
    "2. **objective function**: defines what is meant by 'good' or 'desirable' design;\n",
    "3. **task instance**: sets task-specific parameters.\n",
    "\n",
    "A task defined like this can then be attacked by a **solver**. It goes through the design space to find increasingly better designs. We use this structure in the following exercises.\n",
    "\n",
    "<img src=\"imgs/overview.png\" width=\"95%\">\n",
    "\n",
    "### Design task\n",
    "\n",
    "In plain words, the task is to find the design that yields the highest value of a given objective (goodness) function. The following definition makes **the combinatorial structure of design** more explicit:\n",
    "$$\\mbox{Find } \\mathbf{d} =\n",
    "\t\\begin{pmatrix}\n",
    "\td_1 \\\\\n",
    "\td_2 \\\\\n",
    "\t\\vdots \\\\\n",
    "\td_n\n",
    "\t\\end{pmatrix} \\in \\mathbf{D}\n",
    "\\mbox{ which maximizes } g(\\mathbf{d})$$\n",
    "where \n",
    "* $\\mathbf{d}$ is an *n*-dimensional **design vector**,  each dimension describing a **design variable**, and\n",
    "* $\\mathbf{D}$ is **the set of feasible designs** (all vectors that fulfill constraints).\n",
    "\n",
    "In plain words, a design is a vector in a multi-dimensional vector space. The objective function assigns each vector a value describing its goodness (or badness). When we optimize, we are looking for the vectors that obtain the highest value.\n",
    "\n",
    "### Design space\n",
    "\n",
    "A design space is the product of design variables under consideration. In a real design problem, some variables are fixed and some are open and to be decided by an optimizer. **A design variable** captures a decision using familiar types of variables, such as:\n",
    "* boolean (e.g., Do we offer auditory feedback for button press or not?)\n",
    "* integer (e.g., position of an element on x-axis)\n",
    "* real (e.g., hue)\n",
    "* categorical (e.g., type of an element).\n",
    "\n",
    "In combinatorial optimization continuous variables are discretized. \n",
    "\n",
    "Functional and other requirements that 'rule out' candidate designs are collectively called **design constraints**. Example: When designing a Web layout, we should not place elements such that they overlap.\n",
    "\n",
    "#### Estimating problem size\n",
    "\n",
    "Defining a design space allows examining its size and structure. **Search spaces in user interface design are often very large**. For example, for $n$ functionality there are $2^n - 1$ ways to combine them to an application, which for only 50 functions means 1,125,899,906,842,623 possibilities. Further, assuming that 50 have been selected, they can be organized into a hierarhical menu in $100! \\approx 10^{158}$ ways. [Combinatorics](https://www.tug.org/texshowcase/cheat.pdf) can be used to analyze problem sizes. \n",
    "\n",
    "### Objective function\n",
    "\n",
    "The objective function $f( \\mathbf{x} )$ states what you believe makes a design good. It is a function that assigns an **objective score (or value)** to each design candidate. The design candidate that obtains the highest (or lowest, when minimizing) score is the **optimum design**. The function can be about anything regarded desirable, such as surface features of the interface (e.g., minimal white space) or expected performance of users (e.g., 'task A should be completed as quickly as possible') and so on. In HCI, the quality of a interface is primarily determined by reference to end-users, for example user performance and experiences. \n",
    "\n",
    "There are many principled (and unprincipled) ways to obtain objective functions:\n",
    "* Literature: A model or theory from prior work\n",
    "* Data-driven approach: Use e.g. statistics or machine learning to obtain a model from data\n",
    "* Standards, guidelines, and design patterns\n",
    "* Heuristics, such as guidelines and best-found practices.\n",
    "\n",
    "### Solver\n",
    "\n",
    "After a task has been defined, a solver should be chosen and tuned to attack its instances. We will later look at solvers and their different properties. The process of 'solving' can be intuitively understood as search for highest peaks (when maximizing), or lowest valleys (when minimizing), in a vast 'landscape':\n",
    "\n",
    "<img src=\"imgs/landscapes.png\" width=\"80%\">\n",
    "\n",
    "<p>\n",
    "\n",
    "<p>\n",
    "<div class=\"alert alert-block alert-success\"> \n",
    "<h3>What does 'optimality' mean?</h3> \n",
    "<br>\n",
    "To say that a design is optimal is to say that in the defined set of candidate designs, there is no better design (global optimum has been identified). A design is **globally optimal** when the search method *guarantees* that it achieves the highest objective value in the whole design space. Such guarantees are offered by exhaustive search and exact methods (e.g., integer programming). When we do not have access to those methods, for example because the complexity of the objective function, we cannot claim global optimality. A design is **approximately optimal** when its objective value is within some margin of the optimal design, or when there is a good chance that only marginally better designs exist.</div>\n",
    "</p>\n",
    "\n",
    "The word 'optimal' is overused and misused. In order to claim that a design is optimal, one *must* answer the following questions:\n",
    "1. The best out of which options? (design space)\n",
    "2. The best for what? (design objectives and task instance)\n",
    "3. The best with what guarantees? (search method)\n",
    "\n"
   ]
  },
  {
   "cell_type": "markdown",
   "metadata": {
    "nbpresent": {
     "id": "fc20e5dd-230e-443d-899a-d379c5dfaf42"
    }
   },
   "source": [
    "# 3. Linear menu\n",
    "\n",
    "----------\n",
    "\n",
    "<img src=\"imgs/time-and-date.png\" width=\"90%\">\n",
    "\n",
    "<br>\n",
    "\n",
    "Consider the tabbed menu above. **Linear menu** is a prevalent type of user interfaces, which we find in mobile and desktop applications, web services, and consumer electronics. \n",
    "\n",
    "### Design Task\n",
    "\n",
    "The design of a linear menu is a so-called **assignment problem**: *n* commands are to be *assigned* to *n* predetermined locations (slots) in order to maximize usability. In this task, we define it usability as **minimization of average selection time**. We insist that every slot must be filled with one command, and each command must be assigned only once (constraints). With these in mind, a linear menu with *n* items can be organized in *n!* ways. \n",
    "\n",
    "An overview of our design task:\n",
    "\n",
    "| Aspect | Content  |\n",
    "|----------|------|\n",
    "| Design task | Given *n* menu items, decide their order to minimize expected selection time |\n",
    "| Design space | All possible orderings of the items (*n!* in total)  |\n",
    "| Objective function | Minimize expected selection time |\n",
    "| Task instance | Specification of elements and their relative importances |\n",
    "| Solver | Random search |\n",
    "\n",
    "<p>\n",
    "<div class=\"alert alert-block alert-success\"> \n",
    "<h3>In-class exercise</h3> \n",
    "<br>\n",
    "Change the *task instance* (e_weights) to obtain the design of timeanddate.com.\n",
    "</div>\n",
    "</p>\n",
    "\n",
    "#### Code: Overview of structure\n",
    "\n",
    "We offer a scaffolding for a plug-and-play black box optimizer:\n",
    "* **candidate**: Our design space -- any ordering of *n* elements -- can be represented as a list in Python. The position of an element indicates its position in the menu.\n",
    "* **linear_ST**: Our objective function. Computes expected search time in $O(n^2)$ time.\n",
    "* **optimize**: Our solver. Takes any solver function and objective function as input. It then calls the solver using the objective function as its input. \n",
    "\n",
    "[Visual overview of 1st cell](imgs/codeoverview.png) <br>\n",
    "[Visual overview of 2nd cell](imgs/codeoverview2.png)\n"
   ]
  },
  {
   "cell_type": "code",
   "execution_count": 1,
   "metadata": {
    "nbpresent": {
     "id": "a583c8ec-989d-46fb-a38c-b5bf0e9ec835"
    }
   },
   "outputs": [],
   "source": [
    "import math, random\n",
    "import render                   # For presenting layouts for rendering in Jupyter \n",
    "from IPython.display import SVG # SVG capabilities for showing layouts\n",
    "\n",
    "# Returns Euclidean (unit) distance between two element positions in a grid layout\n",
    "# Needed in our objective function (ST)\n",
    "def distance (columns, i, j):\n",
    "    return math.sqrt( abs(j / columns - i / columns)**2 + abs( i % columns - j % columns)**2) \n",
    "    \n",
    "# Our objective function: Selection time (time it takes for users to select an item). \n",
    "# - A weighted sum of individual selection times weighed by their importance/probability (weight)\n",
    "# - This simplifies the novice model of menu search time presented by Cockburn et al. CHI 2007 \n",
    "def linear_ST (layout, columns, o_inputs):\n",
    "    ST = 0.0\n",
    "    reading_cost = 0.4 # assumed that scanning a single item takes 400 ms\n",
    "    for i,element in enumerate(layout):\n",
    "        try: \n",
    "            # Reading cost is a function of the number of elements intervening between top of menu and target\n",
    "            ST += o_inputs[0][layout[i]] * distance(columns,0,i) * reading_cost\n",
    "        except:\n",
    "            pass\n",
    "    return ST\n",
    "\n",
    "# Our solver: Random search method\n",
    "# - Shuffles a layout (list) and asks from objective function how good it is\n",
    "# - Updates incumbent (best known design) whenever an improvement is found\n",
    "# - Continues like this max_iters times\n",
    "def random_search(max_iters, *args):\n",
    "    columns = args[1] # Number of columns in this layout (=1) \n",
    "    obj_f = args[2]   # Handle to the objective function (=linear_ST)\n",
    "    o_inputs = args[3:] # Arguments simply passed on to the objective function\n",
    "    incumbent = args[0] # Best-known design thus far\n",
    "    incumbent_ov = obj_f(incumbent, columns, o_inputs) # Set initial objective value\n",
    "\n",
    "    for iter in range (0, max_iters):\n",
    "        candidate = random.sample(incumbent, len(incumbent)) # Shuffle the design (note: this methos is slow)\n",
    "        candidate_ov = obj_f(candidate, columns, o_inputs) # Then compute its objective value\n",
    "\n",
    "        if candidate_ov < incumbent_ov: # Update best known if an improvement was found\n",
    "            incumbent = candidate[:]\n",
    "            incumbent_ov = candidate_ov\n",
    "    return incumbent, incumbent_ov\n",
    "\n",
    "    \n",
    "# Our generic optimization service:\n",
    "# - Solver and objective function are given as arguments\n",
    "# - Used throughout the exercises\n",
    "def optimize (iters, solver, *args):\n",
    "    return solver(iters, *args)"
   ]
  },
  {
   "cell_type": "code",
   "execution_count": 2,
   "metadata": {
    "nbpresent": {
     "id": "3531538e-a779-418b-ae61-52e8a807d11a"
    }
   },
   "outputs": [
    {
     "name": "stdout",
     "output_type": "stream",
     "text": [
      "Objective value (expected selection time): 2.5200000000000005\n"
     ]
    },
    {
     "data": {
      "image/svg+xml": [
       "<svg height=\"760\" version=\"1.1\" width=\"115\" xmlns=\"http://www.w3.org/2000/svg\"><polygon fill=\"white\" points=\"0,0 110,0 110,755 0,755\" stroke=\"black\"/><polygon fill=\"white\" points=\"5,5 105,5 105,75 5,75\" stroke=\"black\"/><polygon fill=\"white\" points=\"5,80 105,80 105,150 5,150\" stroke=\"black\"/><polygon fill=\"white\" points=\"5,155 105,155 105,225 5,225\" stroke=\"black\"/><polygon fill=\"white\" points=\"5,230 105,230 105,300 5,300\" stroke=\"black\"/><polygon fill=\"white\" points=\"5,305 105,305 105,375 5,375\" stroke=\"black\"/><polygon fill=\"white\" points=\"5,380 105,380 105,450 5,450\" stroke=\"black\"/><polygon fill=\"white\" points=\"5,455 105,455 105,525 5,525\" stroke=\"black\"/><polygon fill=\"white\" points=\"5,530 105,530 105,600 5,600\" stroke=\"black\"/><polygon fill=\"white\" points=\"5,605 105,605 105,675 5,675\" stroke=\"black\"/><polygon fill=\"white\" points=\"5,680 105,680 105,750 5,750\" stroke=\"black\"/><text font-size=\"25\" x=\"55\" y=\"46\"/><text font-size=\"25\" x=\"23\" y=\"51\">Calc</text><text font-size=\"25\" x=\"23\" y=\"126\">Home</text><text font-size=\"25\" x=\"26\" y=\"201\">Sun</text><text font-size=\"25\" x=\"17\" y=\"276\">Weather</text><text font-size=\"25\" x=\"23\" y=\"351\">Apps</text><text font-size=\"25\" x=\"18\" y=\"426\">Timers</text><text font-size=\"25\" x=\"20\" y=\"501\">World</text><text font-size=\"25\" x=\"20\" y=\"576\">Zones</text><text font-size=\"25\" x=\"26\" y=\"651\">Cal</text><text font-size=\"25\" x=\"23\" y=\"726\">Free</text></svg>"
      ],
      "text/plain": [
       "<IPython.core.display.SVG object>"
      ]
     },
     "execution_count": 2,
     "metadata": {},
     "output_type": "execute_result"
    }
   ],
   "source": [
    "# Task instance\n",
    "\n",
    "# Initial (seed) layout\n",
    "seed_layout = ['Home', 'World','Zones','Cal','Weather','Sun','Timers','Calc','Apps', 'Free']  \n",
    "\n",
    "# Element weights\n",
    "e_weights   = {'Home':0.5, 'World':0.2,'Zones':0.1,'Cal':0.1,'Weather':0.3,'Sun':0.2,'Timers':0.2,'Calc':0.6,'Apps':0.2, 'Free Fun':0.1}\n",
    "\n",
    "# Call the optimizer \n",
    "winner, winner_score = optimize(10000, random_search, seed_layout, 1, linear_ST, e_weights)\n",
    "\n",
    "# Show result\n",
    "print (\"Objective value (expected selection time):\", winner_score)\n",
    "SVGlayout = render.SVGlayout(winner,1)\n",
    "SVG(SVGlayout.inSVG)"
   ]
  },
  {
   "cell_type": "markdown",
   "metadata": {},
   "source": [
    "<p>\n",
    "<div class=\"alert alert-block alert-success\"> \n",
    "<h3>In-class discussion</h3> \n",
    "<br>\n",
    "This was toy case. Why?\n",
    "</div>\n",
    "</p>\n"
   ]
  },
  {
   "cell_type": "markdown",
   "metadata": {
    "nbpresent": {
     "id": "f1eaff93-e8ab-4a5d-a189-dd2d51eebf5f"
    }
   },
   "source": [
    "# 4. Basic concepts: Revisited\n",
    "\n",
    "------------------\n",
    "\n",
    "To attack more interesting problems, we need to revisit the basic concepts:\n",
    "\n",
    "### Design space: Representations\n",
    "\n",
    "*Design space* is a representation of the candidate set of designs, laid out in a suitable format for some chosen search algorithm. [Some representations are illustrated here](imgs/representations.png). The choice of representation affects:\n",
    "* availability of sovers; for example, the formulation of the concept of search neighborhood, which is exploited in local search methods\n",
    "* computational efficiency\n",
    "* ease of extension.\n",
    "\n",
    "We use a *list* representation of layouts. It has its own pros and cons.\n",
    "\n",
    "### Objective function\n",
    "\n",
    "**An objective function** maps a design candidate $x \\in \\mathbf{X}$ to a real-valued predictor:\n",
    "$f: \\mathbf{X} \\rightarrow \\mathbb{R}$.\n",
    "The choice of modeling formalism affects validity (hit rate, quality) and computational efficiency. Moreover, to be relevant in interaction design, this function should quantify an aspect like usability, enjoyability, ergonomics, or errors. Several objectives may need to be combined for reasonable results. This table shows 11 examples spanning task, cognitive, motor, and aesthetic aspects:\n",
    "\n",
    "| Model | Example objective |  Application ref.  |\n",
    "|----------|------|-------|\n",
    "| Fitts' law  |  Minimize finger travel times | Zhai et al. UIST 2000 |\n",
    "| Search-Decide-Point | Minimize visual search and selection time in menus  | Bailly et al. UIST 2013 |\n",
    "| Coherence  |  Ensure related items are close to each other | Bailly et al. UIST 2013 |\n",
    "| Familiarity |  Ensure spatial resemblance with a prior design | Dunlop et al. CHI 2013 |\n",
    "| Keystroke-level model | Minimize task completion time for a sequential user task | Sarcar et al. IxAP 2016 |\n",
    "| Active vision | Minimize visual search time when items are colored | Todi et al. DIS 2016 |\n",
    "| Rosenholtz clutter model | Minimize visual clutter, maximize saliency | Rosenholtz et al. 2011 |\n",
    "| Color harmony theory | Ensure harmonious color sets | Todi et al. DIS 2016 |\n",
    "| Motor complexity theory | Minimize complexity of gesture sets | Sridhar et al. CHI 2015 |\n",
    "| Ergonomics | Minimize shoulder stress | Bachynskyi et al. TOCHI 2015 |\n",
    "| Internal clock model | Keep temporal task performance at desirable level | Lee et al. CHI 2016 |\n",
    "\n",
    "**Subjective goals and preferences** can be dealt with by two main means: (1) by calibrating weights manually to correspond to some distribution of preferences, be they designers' or users'; (2) using machine learning to parametrize models to best correspond with individual priorities expressed in data. \n",
    "\n",
    "#### Approaches to defining objective functions\n",
    "\n",
    "**Heuristics** are rules of thumb used in design,  such as 'white space should be minimized'.  Since most heuristics are 'weak' (carry little information), multiple are needed. This leads to the problem of **conflict resolution**: how to weigh the contribution of one heuristic against another. Another issue of heuristics is their questionable validity. (Note: not to be confused with heuristic optimization methods.)\n",
    "\n",
    "**Metrics** are expressed as a real-valued functions that capture some feature of a design and link it to predictions of outcomes to users. Example: Overplotting metrics in the design of information visualizations.\n",
    "\n",
    "**Regression** offers a more expressive yet quickly computable mathematical form of cost functions:\n",
    "$y = f (\\mathbf{x}, \\mathbf{\\beta} ) + \\epsilon$ . \n",
    "\n",
    "**Simulator-based models** are step-wise executed functions $M$ that map the model parameters $\\theta$ to data. In HCI, the parameters $\\theta$ capture both parameters of the user and those of the task or context. Simulators are **generative models** that predict not only the outcomes of interaction but intermediate steps, or the process of interaction. A simulator may address multiple design objectives in a coherent manner that require less weight-tuning. However, they are non-linear and significantly more expensive to execute, ruling out exact methods (e.g, integer programming).\n",
    "\n",
    "In addition, there is a vast number of machine learning of different types available.\n",
    "\n",
    "### Task instance\n",
    "\n",
    "*Task instance* refers to task-specific input values to the design task and objective function, such as:\n",
    "* Which elements are to be decided (sizes, colors etc)?\n",
    "* Relative importances of design objectives (e.g,. how much is usability more important than security?)\n",
    "* Properties of targeted user groups, such as goals, capabilities, and interaction styles of users (e.g., what do they want to achieve with the interface?)\n",
    "* Constraints of the interface (e.g., screen resolution, input method).\n",
    "\n",
    "### Optimization method\n",
    "\n",
    "Modern methods in combinatorial optimization can be divided into two main classes:\n",
    "1. **Black-box or heuristic methods** do not necessitate assumptions about  the objective function, but rather consider it as a black-box -- like an oracle -- that tells them the objective value of a given candidate it has generated.  \n",
    "2. **Exact methods** such as integer programming offer mathematical guarantees for solutions but insist on analysis of the objective function for revealing simplifications and links to known tasks in the optimization literature. Integer programming is covered in the other part of the day."
   ]
  },
  {
   "cell_type": "markdown",
   "metadata": {
    "nbpresent": {
     "id": "d1a8d537-7f0e-4408-9e7e-70c298cafc3a"
    }
   },
   "source": [
    "# 5. Toolbar design\n",
    "\n",
    "---------------\n",
    "\n",
    "**Toolbars**, widely used in desktop and web applications, are **grid menus**. To design a toolbar, ordering elements is not enough. One needs to consider how to ensure that related items are close to each other (grouping).\n",
    "\n",
    "| New aspect | Content  |\n",
    "|----------|------|\n",
    "| Design objectives | Minimum selection time; **Your objective function for grouping** |\n",
    "| Task instance | 12 elements in a productivity app |\n",
    "\n",
    "<img src=\"imgs/toolbar.png\" width=\"75%\">\n",
    "\n",
    "<p>\n",
    "<div class=\"alert alert-block alert-success\"> \n",
    "<h3>Exercise: Implement an objective function for element-grouping.</h3> \n",
    "<br>\n",
    "Implement an objective function for grouping. It should try to keep *related items close to each other*. **Tip:** Association value between Your function can utilize *distance* function defined in the earlier cell. Call syntax for distance function: 'distance(columns, i,j)' </div>\n",
    "</p>\n"
   ]
  },
  {
   "cell_type": "code",
   "execution_count": 77,
   "metadata": {},
   "outputs": [],
   "source": [
    "# A new objective function that considers two objectives: selection time and YOUR function\n",
    "def ST_and_myO (layout, columns, o_inputs):\n",
    "    return linear_ST (layout,columns,o_inputs[0:]) + 1.0 * myObjective (layout,columns,o_inputs[1:])\n",
    "\n",
    "def ST_and_myO_normalized(layout, columns, o_inputs):\n",
    "    lst = linear_ST (layout,columns,o_inputs[0:])\n",
    "    ass = myObjective (layout,columns,o_inputs[1:])\n",
    "    v = 0.5\n",
    "    # TODO pareto frontier by changing v from 0 to 1\n",
    "    # TODO normalize\n",
    "    return v*lst + (1-v)*ass\n",
    "\n",
    "def myObjective (layout, columns, o_inputs):\n",
    "    ov = 0.0\n",
    "    for i in range(0, len(layout)):\n",
    "        for j in range(i+1, len(layout)):\n",
    "            # We pick the association score, if any, from e_weights\n",
    "            if o_inputs[0].get(layout[i]+layout[j]): \n",
    "                association = o_inputs[0].get(layout[i]+layout[j])\n",
    "            elif o_inputs[0].get(layout[j]+layout[i]): \n",
    "                association = o_inputs[0].get(layout[j]+layout[i])\n",
    "            else: \n",
    "                association = 0\n",
    "\n",
    "            # TASK: ADD YOUR OBJECTIVE FUNCTION HERE\n",
    "            # Added by Antti\n",
    "            ov += distance(columns, i,j) * association\n",
    "\n",
    "    return ov"
   ]
  },
  {
   "cell_type": "code",
   "execution_count": 78,
   "metadata": {},
   "outputs": [
    {
     "name": "stdout",
     "output_type": "stream",
     "text": [
      "Objective value: 4.738125180402307\n"
     ]
    },
    {
     "data": {
      "image/svg+xml": [
       "<svg height=\"180\" version=\"1.1\" width=\"680\" xmlns=\"http://www.w3.org/2000/svg\"><polygon fill=\"white\" points=\"0,0 670,0 670,170 0,170\" stroke=\"black\"/><polygon fill=\"steelblue\" points=\"10,10 110,10 110,80 10,80\" stroke=\"black\"/><polygon fill=\"steelblue\" points=\"120,10 220,10 220,80 120,80\" stroke=\"black\"/><polygon fill=\"white\" points=\"230,10 330,10 330,80 230,80\" stroke=\"black\"/><polygon fill=\"dimgrey\" points=\"340,10 440,10 440,80 340,80\" stroke=\"black\"/><polygon fill=\"dimgrey\" points=\"450,10 550,10 550,80 450,80\" stroke=\"black\"/><polygon fill=\"lavender\" points=\"560,10 660,10 660,80 560,80\" stroke=\"black\"/><polygon fill=\"white\" points=\"10,90 110,90 110,160 10,160\" stroke=\"black\"/><polygon fill=\"steelblue\" points=\"120,90 220,90 220,160 120,160\" stroke=\"black\"/><polygon fill=\"white\" points=\"230,90 330,90 330,160 230,160\" stroke=\"black\"/><polygon fill=\"white\" points=\"340,90 440,90 440,160 340,160\" stroke=\"black\"/><polygon fill=\"dimgrey\" points=\"450,90 550,90 550,160 450,160\" stroke=\"black\"/><polygon fill=\"lavender\" points=\"560,90 660,90 660,160 560,160\" stroke=\"black\"/><text font-size=\"25\" x=\"335\" y=\"46\"/><text font-size=\"25\" x=\"31\" y=\"56\">Ppl</text><text font-size=\"25\" x=\"141\" y=\"56\">Cal</text><text font-size=\"25\" x=\"245\" y=\"56\">Drive</text><text font-size=\"25\" x=\"355\" y=\"56\">Excel</text><text font-size=\"25\" x=\"468\" y=\"56\">Word</text><text font-size=\"25\" x=\"575\" y=\"56\">Tasks</text><text font-size=\"25\" x=\"28\" y=\"136\">News</text><text font-size=\"25\" x=\"138\" y=\"136\">Mail</text><text font-size=\"25\" x=\"245\" y=\"136\">Admin</text><text font-size=\"25\" x=\"355\" y=\"136\">Sites</text><text font-size=\"25\" x=\"471\" y=\"136\">PPT</text><text font-size=\"25\" x=\"575\" y=\"136\">Notes</text></svg>"
      ],
      "text/plain": [
       "<IPython.core.display.SVG object>"
      ]
     },
     "execution_count": 78,
     "metadata": {},
     "output_type": "execute_result"
    }
   ],
   "source": [
    "# Task instance\n",
    "\n",
    "seed_layout = ['Tasks','Word','Excel','PPT','Admin','Mail','Cal','Ppl','News','Drive','Sites','Notes']\n",
    "e_weights = {'Tasks':0.1,'Word':0.2,'Excel':0.15,'PPT':0.2,'Admin':0.05,'Mail':0.5,'Cal':0.4,'Ppl':0.4,'News':0.4,'Drive':0.2,'Sites':0.01, 'Notes':0.05}\n",
    "associations = {'WordExcel':0.5,'WordPPT':0.5,'MailCal':0.3,'CalPpl':0.3,'TasksCal':0.2,'NotesTasks': 0.3}\n",
    "columns = 6\n",
    "\n",
    "# Optimization\n",
    "winner, winner_score = optimize(3000, random_search, seed_layout, columns, ST_and_myO, e_weights, associations)\n",
    "\n",
    "# Results\n",
    "print (\"Objective value:\", winner_score)\n",
    "SVGlayout = render.SVGlayout(winner,columns,10,associations)\n",
    "SVG(SVGlayout.inSVG)"
   ]
  },
  {
   "cell_type": "code",
   "execution_count": 79,
   "metadata": {},
   "outputs": [],
   "source": [
    "x1, zU1 = optimize(3000, random_search, seed_layout, columns, linear_ST, e_weights, associations)\n",
    "x2, zU2 = optimize(3000, random_search, seed_layout, columns, myObjective, e_weights, associations)\n",
    "zN1 = max(linear_ST(x1, columns, [e_weights]), myObjective(x1, columns, [associations]))\n",
    "zN2 = max(linear_ST(x2, columns, [e_weights]), myObjective(x2, columns, [associations]))"
   ]
  },
  {
   "cell_type": "code",
   "execution_count": 80,
   "metadata": {},
   "outputs": [
    {
     "data": {
      "text/plain": [
       "(1.8429685045466868, 0.0, 3.1125888582353607, 5.123316391936875)"
      ]
     },
     "execution_count": 80,
     "metadata": {},
     "output_type": "execute_result"
    }
   ],
   "source": [
    "zU1, zU2, zN1, zN2"
   ]
  },
  {
   "cell_type": "code",
   "execution_count": 83,
   "metadata": {},
   "outputs": [],
   "source": [
    "def normalized_objective(u1, u2, layout, columns, o_inputs):\n",
    "    return u1 * linear_ST(layout, columns, o_inputs[0:]) / (zN1 - zU1) + \\\n",
    "           u2 * myObjective(layout, columns, o_inputs[1:]) / (zN2 - zU2)"
   ]
  },
  {
   "cell_type": "code",
   "execution_count": 97,
   "metadata": {},
   "outputs": [],
   "source": [
    "from functools import partial\n",
    "u1 = 0.8\n",
    "u2 = 1 - u1\n",
    "objective = partial(normalized_objective, u1, u2)\n",
    "winner, winner_score = optimize(3000, random_search, seed_layout, columns, objective, e_weights, associations)"
   ]
  },
  {
   "cell_type": "code",
   "execution_count": 98,
   "metadata": {},
   "outputs": [
    {
     "name": "stdout",
     "output_type": "stream",
     "text": [
      "Objective value: 1.3008496500755102\n"
     ]
    },
    {
     "data": {
      "image/svg+xml": [
       "<svg height=\"180\" version=\"1.1\" width=\"680\" xmlns=\"http://www.w3.org/2000/svg\"><polygon fill=\"white\" points=\"0,0 670,0 670,170 0,170\" stroke=\"black\"/><polygon fill=\"steelblue\" points=\"10,10 110,10 110,80 10,80\" stroke=\"black\"/><polygon fill=\"steelblue\" points=\"120,10 220,10 220,80 120,80\" stroke=\"black\"/><polygon fill=\"dimgrey\" points=\"230,10 330,10 330,80 230,80\" stroke=\"black\"/><polygon fill=\"white\" points=\"340,10 440,10 440,80 340,80\" stroke=\"black\"/><polygon fill=\"white\" points=\"450,10 550,10 550,80 450,80\" stroke=\"black\"/><polygon fill=\"white\" points=\"560,10 660,10 660,80 560,80\" stroke=\"black\"/><polygon fill=\"white\" points=\"10,90 110,90 110,160 10,160\" stroke=\"black\"/><polygon fill=\"white\" points=\"120,90 220,90 220,160 120,160\" stroke=\"black\"/><polygon fill=\"dimgrey\" points=\"230,90 330,90 330,160 230,160\" stroke=\"black\"/><polygon fill=\"dimgrey\" points=\"340,90 440,90 440,160 340,160\" stroke=\"black\"/><polygon fill=\"lavender\" points=\"450,90 550,90 550,160 450,160\" stroke=\"black\"/><polygon fill=\"lavender\" points=\"560,90 660,90 660,160 560,160\" stroke=\"black\"/><text font-size=\"25\" x=\"335\" y=\"46\"/><text font-size=\"25\" x=\"31\" y=\"56\">Cal</text><text font-size=\"25\" x=\"138\" y=\"56\">Mail</text><text font-size=\"25\" x=\"251\" y=\"56\">PPT</text><text font-size=\"25\" x=\"355\" y=\"56\">Sites</text><text font-size=\"25\" x=\"465\" y=\"56\">Drive</text><text font-size=\"25\" x=\"575\" y=\"56\">Admin</text><text font-size=\"25\" x=\"28\" y=\"136\">News</text><text font-size=\"25\" x=\"141\" y=\"136\">Ppl</text><text font-size=\"25\" x=\"248\" y=\"136\">Word</text><text font-size=\"25\" x=\"355\" y=\"136\">Excel</text><text font-size=\"25\" x=\"465\" y=\"136\">Tasks</text><text font-size=\"25\" x=\"575\" y=\"136\">Notes</text></svg>"
      ],
      "text/plain": [
       "<IPython.core.display.SVG object>"
      ]
     },
     "execution_count": 98,
     "metadata": {},
     "output_type": "execute_result"
    }
   ],
   "source": [
    "# Results\n",
    "print (\"Objective value:\", winner_score)\n",
    "SVGlayout = render.SVGlayout(winner,columns,10,associations)\n",
    "SVG(SVGlayout.inSVG)"
   ]
  },
  {
   "cell_type": "code",
   "execution_count": 30,
   "metadata": {},
   "outputs": [],
   "source": [
    "def normalize(weights: dict):\n",
    "#     w_min = min(weights.values())\n",
    "    w_min = 0\n",
    "    w_max = max(weights.values())\n",
    "    w = dict()\n",
    "    for key in weights:\n",
    "        w[key] = (weights[key] - w_min) / (w_max - w_min)\n",
    "    return w\n",
    "\n",
    "def ST_and_myO_normalized(u1, u2, layout, columns, o_inputs):\n",
    "    \"\"\"A new objective function that considers two objectives: selection time and YOUR function\"\"\"\n",
    "    # TODO: 1. How does changing objective_weight effect the outcome?\n",
    "    # TODO: 2. Implement normalization such that objective weight is not\n",
    "#           sensitive to change in e_weight or associations.\n",
    "    reading_cost = 0.4\n",
    "    return u1 * linear_ST(layout, columns, o_inputs[0:]) / reading_cost + \\\n",
    "           u2 * myObjective(layout, columns, o_inputs[1:])"
   ]
  },
  {
   "cell_type": "code",
   "execution_count": 68,
   "metadata": {},
   "outputs": [
    {
     "data": {
      "text/plain": [
       "({'Admin': 0.1,\n",
       "  'Cal': 0.8,\n",
       "  'Drive': 0.4,\n",
       "  'Excel': 0.3,\n",
       "  'Mail': 1.0,\n",
       "  'News': 0.8,\n",
       "  'Notes': 0.1,\n",
       "  'PPT': 0.4,\n",
       "  'Ppl': 0.8,\n",
       "  'Sites': 0.02,\n",
       "  'Tasks': 0.2,\n",
       "  'Word': 0.4},\n",
       " {'CalPpl': 0.6,\n",
       "  'MailCal': 0.6,\n",
       "  'NotesTasks': 0.6,\n",
       "  'TasksCal': 0.4,\n",
       "  'WordExcel': 1.0,\n",
       "  'WordPPT': 1.0})"
      ]
     },
     "execution_count": 68,
     "metadata": {},
     "output_type": "execute_result"
    }
   ],
   "source": [
    "normalized(e_weights), normalized(associations)"
   ]
  },
  {
   "cell_type": "code",
   "execution_count": 70,
   "metadata": {},
   "outputs": [],
   "source": [
    "from functools import partial\n",
    "\n",
    "def pareto_optimal_design(u1=0.5):\n",
    "    assert 0 <= u1 <= 1\n",
    "    u2 = 1 - u1\n",
    "    winner, winner_score = optimize(\n",
    "        10000, \n",
    "        random_search, \n",
    "        seed_layout, \n",
    "        columns, \n",
    "        partial(ST_and_myO_normalized, u1, u2), \n",
    "        normalized(e_weights), \n",
    "        normalized(associations))\n",
    "    return winner, winner_score"
   ]
  },
  {
   "cell_type": "code",
   "execution_count": 71,
   "metadata": {},
   "outputs": [
    {
     "name": "stdout",
     "output_type": "stream",
     "text": [
      "Objective value: 8.962791373007523\n"
     ]
    },
    {
     "data": {
      "image/svg+xml": [
       "<svg height=\"180\" version=\"1.1\" width=\"680\" xmlns=\"http://www.w3.org/2000/svg\"><polygon fill=\"white\" points=\"0,0 670,0 670,170 0,170\" stroke=\"black\"/><polygon fill=\"white\" points=\"10,10 110,10 110,80 10,80\" stroke=\"black\"/><polygon fill=\"steelblue\" points=\"120,10 220,10 220,80 120,80\" stroke=\"black\"/><polygon fill=\"dimgrey\" points=\"230,10 330,10 330,80 230,80\" stroke=\"black\"/><polygon fill=\"dimgrey\" points=\"340,10 440,10 440,80 340,80\" stroke=\"black\"/><polygon fill=\"white\" points=\"450,10 550,10 550,80 450,80\" stroke=\"black\"/><polygon fill=\"lavender\" points=\"560,10 660,10 660,80 560,80\" stroke=\"black\"/><polygon fill=\"white\" points=\"10,90 110,90 110,160 10,160\" stroke=\"black\"/><polygon fill=\"steelblue\" points=\"120,90 220,90 220,160 120,160\" stroke=\"black\"/><polygon fill=\"white\" points=\"230,90 330,90 330,160 230,160\" stroke=\"black\"/><polygon fill=\"white\" points=\"340,90 440,90 440,160 340,160\" stroke=\"black\"/><polygon fill=\"lavender\" points=\"450,90 550,90 550,160 450,160\" stroke=\"black\"/><polygon fill=\"white\" points=\"560,90 660,90 660,160 560,160\" stroke=\"black\"/><text font-size=\"25\" x=\"335\" y=\"46\"/><text font-size=\"25\" x=\"28\" y=\"56\">Mail</text><text font-size=\"25\" x=\"141\" y=\"56\">Ppl</text><text font-size=\"25\" x=\"248\" y=\"56\">Word</text><text font-size=\"25\" x=\"355\" y=\"56\">Excel</text><text font-size=\"25\" x=\"471\" y=\"56\">PPT</text><text font-size=\"25\" x=\"575\" y=\"56\">Notes</text><text font-size=\"25\" x=\"28\" y=\"136\">News</text><text font-size=\"25\" x=\"141\" y=\"136\">Cal</text><text font-size=\"25\" x=\"245\" y=\"136\">Drive</text><text font-size=\"25\" x=\"355\" y=\"136\">Admin</text><text font-size=\"25\" x=\"465\" y=\"136\">Tasks</text><text font-size=\"25\" x=\"575\" y=\"136\">Sites</text></svg>"
      ],
      "text/plain": [
       "<IPython.core.display.SVG object>"
      ]
     },
     "execution_count": 71,
     "metadata": {},
     "output_type": "execute_result"
    }
   ],
   "source": [
    "winner, winner_score = pareto_optimal_design(u1=1)\n",
    "print (\"Objective value:\", winner_score)\n",
    "SVGlayout = render.SVGlayout(winner,columns,10,associations)\n",
    "SVG(SVGlayout.inSVG)"
   ]
  },
  {
   "cell_type": "code",
   "execution_count": 63,
   "metadata": {},
   "outputs": [
    {
     "name": "stdout",
     "output_type": "stream",
     "text": [
      "Objective value: 8.416413768516975\n"
     ]
    },
    {
     "data": {
      "image/svg+xml": [
       "<svg height=\"180\" version=\"1.1\" width=\"680\" xmlns=\"http://www.w3.org/2000/svg\"><polygon fill=\"white\" points=\"0,0 670,0 670,170 0,170\" stroke=\"black\"/><polygon fill=\"white\" points=\"10,10 110,10 110,80 10,80\" stroke=\"black\"/><polygon fill=\"steelblue\" points=\"120,10 220,10 220,80 120,80\" stroke=\"black\"/><polygon fill=\"steelblue\" points=\"230,10 330,10 330,80 230,80\" stroke=\"black\"/><polygon fill=\"dimgrey\" points=\"340,10 440,10 440,80 340,80\" stroke=\"black\"/><polygon fill=\"lavender\" points=\"450,10 550,10 550,80 450,80\" stroke=\"black\"/><polygon fill=\"white\" points=\"560,10 660,10 660,80 560,80\" stroke=\"black\"/><polygon fill=\"white\" points=\"10,90 110,90 110,160 10,160\" stroke=\"black\"/><polygon fill=\"white\" points=\"120,90 220,90 220,160 120,160\" stroke=\"black\"/><polygon fill=\"dimgrey\" points=\"230,90 330,90 330,160 230,160\" stroke=\"black\"/><polygon fill=\"dimgrey\" points=\"340,90 440,90 440,160 340,160\" stroke=\"black\"/><polygon fill=\"lavender\" points=\"450,90 550,90 550,160 450,160\" stroke=\"black\"/><polygon fill=\"white\" points=\"560,90 660,90 660,160 560,160\" stroke=\"black\"/><text font-size=\"25\" x=\"335\" y=\"46\"/><text font-size=\"25\" x=\"31\" y=\"56\">Ppl</text><text font-size=\"25\" x=\"138\" y=\"56\">Mail</text><text font-size=\"25\" x=\"251\" y=\"56\">Cal</text><text font-size=\"25\" x=\"361\" y=\"56\">PPT</text><text font-size=\"25\" x=\"465\" y=\"56\">Tasks</text><text font-size=\"25\" x=\"575\" y=\"56\">Sites</text><text font-size=\"25\" x=\"28\" y=\"136\">News</text><text font-size=\"25\" x=\"135\" y=\"136\">Drive</text><text font-size=\"25\" x=\"245\" y=\"136\">Excel</text><text font-size=\"25\" x=\"358\" y=\"136\">Word</text><text font-size=\"25\" x=\"465\" y=\"136\">Notes</text><text font-size=\"25\" x=\"575\" y=\"136\">Admin</text></svg>"
      ],
      "text/plain": [
       "<IPython.core.display.SVG object>"
      ]
     },
     "execution_count": 63,
     "metadata": {},
     "output_type": "execute_result"
    }
   ],
   "source": [
    "winner, winner_score = pareto_optimal_design(u1=0.8)\n",
    "print (\"Objective value:\", winner_score)\n",
    "SVGlayout = render.SVGlayout(winner,columns,10,associations)\n",
    "SVG(SVGlayout.inSVG)"
   ]
  },
  {
   "cell_type": "raw",
   "metadata": {},
   "source": []
  },
  {
   "cell_type": "code",
   "execution_count": 64,
   "metadata": {},
   "outputs": [
    {
     "name": "stdout",
     "output_type": "stream",
     "text": [
      "Objective value: 7.978572159720607\n"
     ]
    },
    {
     "data": {
      "image/svg+xml": [
       "<svg height=\"180\" version=\"1.1\" width=\"680\" xmlns=\"http://www.w3.org/2000/svg\"><polygon fill=\"white\" points=\"0,0 670,0 670,170 0,170\" stroke=\"black\"/><polygon fill=\"steelblue\" points=\"10,10 110,10 110,80 10,80\" stroke=\"black\"/><polygon fill=\"white\" points=\"120,10 220,10 220,80 120,80\" stroke=\"black\"/><polygon fill=\"dimgrey\" points=\"230,10 330,10 330,80 230,80\" stroke=\"black\"/><polygon fill=\"dimgrey\" points=\"340,10 440,10 440,80 340,80\" stroke=\"black\"/><polygon fill=\"white\" points=\"450,10 550,10 550,80 450,80\" stroke=\"black\"/><polygon fill=\"white\" points=\"560,10 660,10 660,80 560,80\" stroke=\"black\"/><polygon fill=\"steelblue\" points=\"10,90 110,90 110,160 10,160\" stroke=\"black\"/><polygon fill=\"white\" points=\"120,90 220,90 220,160 120,160\" stroke=\"black\"/><polygon fill=\"dimgrey\" points=\"230,90 330,90 330,160 230,160\" stroke=\"black\"/><polygon fill=\"white\" points=\"340,90 440,90 440,160 340,160\" stroke=\"black\"/><polygon fill=\"white\" points=\"450,90 550,90 550,160 450,160\" stroke=\"black\"/><polygon fill=\"white\" points=\"560,90 660,90 660,160 560,160\" stroke=\"black\"/><text font-size=\"25\" x=\"335\" y=\"46\"/><text font-size=\"25\" x=\"31\" y=\"56\">Cal</text><text font-size=\"25\" x=\"138\" y=\"56\">News</text><text font-size=\"25\" x=\"251\" y=\"56\">PPT</text><text font-size=\"25\" x=\"355\" y=\"56\">Excel</text><text font-size=\"25\" x=\"465\" y=\"56\">Tasks</text><text font-size=\"25\" x=\"575\" y=\"56\">Sites</text><text font-size=\"25\" x=\"31\" y=\"136\">Ppl</text><text font-size=\"25\" x=\"138\" y=\"136\">Mail</text><text font-size=\"25\" x=\"248\" y=\"136\">Word</text><text font-size=\"25\" x=\"355\" y=\"136\">Drive</text><text font-size=\"25\" x=\"465\" y=\"136\">Admin</text><text font-size=\"25\" x=\"575\" y=\"136\">Notes</text></svg>"
      ],
      "text/plain": [
       "<IPython.core.display.SVG object>"
      ]
     },
     "execution_count": 64,
     "metadata": {},
     "output_type": "execute_result"
    }
   ],
   "source": [
    "winner, winner_score = pareto_optimal_design(u1=0.6)\n",
    "print (\"Objective value:\", winner_score)\n",
    "SVGlayout = render.SVGlayout(winner,columns,10,associations)\n",
    "SVG(SVGlayout.inSVG)"
   ]
  },
  {
   "cell_type": "code",
   "execution_count": 65,
   "metadata": {},
   "outputs": [
    {
     "name": "stdout",
     "output_type": "stream",
     "text": [
      "Objective value: 7.0295388239535725\n"
     ]
    },
    {
     "data": {
      "image/svg+xml": [
       "<svg height=\"180\" version=\"1.1\" width=\"680\" xmlns=\"http://www.w3.org/2000/svg\"><polygon fill=\"white\" points=\"0,0 670,0 670,170 0,170\" stroke=\"black\"/><polygon fill=\"steelblue\" points=\"10,10 110,10 110,80 10,80\" stroke=\"black\"/><polygon fill=\"steelblue\" points=\"120,10 220,10 220,80 120,80\" stroke=\"black\"/><polygon fill=\"white\" points=\"230,10 330,10 330,80 230,80\" stroke=\"black\"/><polygon fill=\"white\" points=\"340,10 440,10 440,80 340,80\" stroke=\"black\"/><polygon fill=\"dimgrey\" points=\"450,10 550,10 550,80 450,80\" stroke=\"black\"/><polygon fill=\"dimgrey\" points=\"560,10 660,10 660,80 560,80\" stroke=\"black\"/><polygon fill=\"steelblue\" points=\"10,90 110,90 110,160 10,160\" stroke=\"black\"/><polygon fill=\"white\" points=\"120,90 220,90 220,160 120,160\" stroke=\"black\"/><polygon fill=\"lavender\" points=\"230,90 330,90 330,160 230,160\" stroke=\"black\"/><polygon fill=\"lavender\" points=\"340,90 440,90 440,160 340,160\" stroke=\"black\"/><polygon fill=\"dimgrey\" points=\"450,90 550,90 550,160 450,160\" stroke=\"black\"/><polygon fill=\"white\" points=\"560,90 660,90 660,160 560,160\" stroke=\"black\"/><text font-size=\"25\" x=\"335\" y=\"46\"/><text font-size=\"25\" x=\"31\" y=\"56\">Cal</text><text font-size=\"25\" x=\"141\" y=\"56\">Ppl</text><text font-size=\"25\" x=\"245\" y=\"56\">Drive</text><text font-size=\"25\" x=\"355\" y=\"56\">Admin</text><text font-size=\"25\" x=\"471\" y=\"56\">PPT</text><text font-size=\"25\" x=\"575\" y=\"56\">Excel</text><text font-size=\"25\" x=\"28\" y=\"136\">Mail</text><text font-size=\"25\" x=\"138\" y=\"136\">News</text><text font-size=\"25\" x=\"245\" y=\"136\">Tasks</text><text font-size=\"25\" x=\"355\" y=\"136\">Notes</text><text font-size=\"25\" x=\"468\" y=\"136\">Word</text><text font-size=\"25\" x=\"575\" y=\"136\">Sites</text></svg>"
      ],
      "text/plain": [
       "<IPython.core.display.SVG object>"
      ]
     },
     "execution_count": 65,
     "metadata": {},
     "output_type": "execute_result"
    }
   ],
   "source": [
    "winner, winner_score = pareto_optimal_design(u1=0.4)\n",
    "print (\"Objective value:\", winner_score)\n",
    "SVGlayout = render.SVGlayout(winner,columns,10,associations)\n",
    "SVG(SVGlayout.inSVG)"
   ]
  },
  {
   "cell_type": "code",
   "execution_count": 66,
   "metadata": {},
   "outputs": [
    {
     "name": "stdout",
     "output_type": "stream",
     "text": [
      "Objective value: 6.0034607777855635\n"
     ]
    },
    {
     "data": {
      "image/svg+xml": [
       "<svg height=\"180\" version=\"1.1\" width=\"680\" xmlns=\"http://www.w3.org/2000/svg\"><polygon fill=\"white\" points=\"0,0 670,0 670,170 0,170\" stroke=\"black\"/><polygon fill=\"steelblue\" points=\"10,10 110,10 110,80 10,80\" stroke=\"black\"/><polygon fill=\"steelblue\" points=\"120,10 220,10 220,80 120,80\" stroke=\"black\"/><polygon fill=\"dimgrey\" points=\"230,10 330,10 330,80 230,80\" stroke=\"black\"/><polygon fill=\"dimgrey\" points=\"340,10 440,10 440,80 340,80\" stroke=\"black\"/><polygon fill=\"white\" points=\"450,10 550,10 550,80 450,80\" stroke=\"black\"/><polygon fill=\"white\" points=\"560,10 660,10 660,80 560,80\" stroke=\"black\"/><polygon fill=\"steelblue\" points=\"10,90 110,90 110,160 10,160\" stroke=\"black\"/><polygon fill=\"white\" points=\"120,90 220,90 220,160 120,160\" stroke=\"black\"/><polygon fill=\"white\" points=\"230,90 330,90 330,160 230,160\" stroke=\"black\"/><polygon fill=\"lavender\" points=\"340,90 440,90 440,160 340,160\" stroke=\"black\"/><polygon fill=\"lavender\" points=\"450,90 550,90 550,160 450,160\" stroke=\"black\"/><polygon fill=\"lavender\" points=\"560,90 660,90 660,160 560,160\" stroke=\"black\"/><text font-size=\"25\" x=\"335\" y=\"46\"/><text font-size=\"25\" x=\"31\" y=\"56\">Cal</text><text font-size=\"25\" x=\"138\" y=\"56\">Mail</text><text font-size=\"25\" x=\"245\" y=\"56\">Tasks</text><text font-size=\"25\" x=\"355\" y=\"56\">Notes</text><text font-size=\"25\" x=\"468\" y=\"56\">News</text><text font-size=\"25\" x=\"575\" y=\"56\">Sites</text><text font-size=\"25\" x=\"31\" y=\"136\">Ppl</text><text font-size=\"25\" x=\"135\" y=\"136\">Drive</text><text font-size=\"25\" x=\"245\" y=\"136\">Admin</text><text font-size=\"25\" x=\"361\" y=\"136\">PPT</text><text font-size=\"25\" x=\"468\" y=\"136\">Word</text><text font-size=\"25\" x=\"575\" y=\"136\">Excel</text></svg>"
      ],
      "text/plain": [
       "<IPython.core.display.SVG object>"
      ]
     },
     "execution_count": 66,
     "metadata": {},
     "output_type": "execute_result"
    }
   ],
   "source": [
    "winner, winner_score = pareto_optimal_design(u1=0.2)\n",
    "print (\"Objective value:\", winner_score)\n",
    "SVGlayout = render.SVGlayout(winner,columns,10,associations)\n",
    "SVG(SVGlayout.inSVG)"
   ]
  },
  {
   "cell_type": "code",
   "execution_count": 72,
   "metadata": {},
   "outputs": [
    {
     "name": "stdout",
     "output_type": "stream",
     "text": [
      "Objective value: 4.351029572836457\n"
     ]
    },
    {
     "data": {
      "image/svg+xml": [
       "<svg height=\"180\" version=\"1.1\" width=\"680\" xmlns=\"http://www.w3.org/2000/svg\"><polygon fill=\"white\" points=\"0,0 670,0 670,170 0,170\" stroke=\"black\"/><polygon fill=\"white\" points=\"10,10 110,10 110,80 10,80\" stroke=\"black\"/><polygon fill=\"white\" points=\"120,10 220,10 220,80 120,80\" stroke=\"black\"/><polygon fill=\"steelblue\" points=\"230,10 330,10 330,80 230,80\" stroke=\"black\"/><polygon fill=\"steelblue\" points=\"340,10 440,10 440,80 340,80\" stroke=\"black\"/><polygon fill=\"white\" points=\"450,10 550,10 550,80 450,80\" stroke=\"black\"/><polygon fill=\"dimgrey\" points=\"560,10 660,10 660,80 560,80\" stroke=\"black\"/><polygon fill=\"white\" points=\"10,90 110,90 110,160 10,160\" stroke=\"black\"/><polygon fill=\"steelblue\" points=\"120,90 220,90 220,160 120,160\" stroke=\"black\"/><polygon fill=\"steelblue\" points=\"230,90 330,90 330,160 230,160\" stroke=\"black\"/><polygon fill=\"steelblue\" points=\"340,90 440,90 440,160 340,160\" stroke=\"black\"/><polygon fill=\"dimgrey\" points=\"450,90 550,90 550,160 450,160\" stroke=\"black\"/><polygon fill=\"dimgrey\" points=\"560,90 660,90 660,160 560,160\" stroke=\"black\"/><text font-size=\"25\" x=\"335\" y=\"46\"/><text font-size=\"25\" x=\"25\" y=\"56\">Admin</text><text font-size=\"25\" x=\"135\" y=\"56\">Drive</text><text font-size=\"25\" x=\"251\" y=\"56\">Ppl</text><text font-size=\"25\" x=\"361\" y=\"56\">Cal</text><text font-size=\"25\" x=\"468\" y=\"56\">News</text><text font-size=\"25\" x=\"575\" y=\"56\">Excel</text><text font-size=\"25\" x=\"25\" y=\"136\">Sites</text><text font-size=\"25\" x=\"135\" y=\"136\">Notes</text><text font-size=\"25\" x=\"245\" y=\"136\">Tasks</text><text font-size=\"25\" x=\"358\" y=\"136\">Mail</text><text font-size=\"25\" x=\"471\" y=\"136\">PPT</text><text font-size=\"25\" x=\"578\" y=\"136\">Word</text></svg>"
      ],
      "text/plain": [
       "<IPython.core.display.SVG object>"
      ]
     },
     "execution_count": 72,
     "metadata": {},
     "output_type": "execute_result"
    }
   ],
   "source": [
    "winner, winner_score = pareto_optimal_design(u1=0.0)\n",
    "print (\"Objective value:\", winner_score)\n",
    "SVGlayout = render.SVGlayout(winner,columns,10,associations)\n",
    "SVG(SVGlayout.inSVG)"
   ]
  },
  {
   "cell_type": "markdown",
   "metadata": {},
   "source": [
    "## 6. Improving the Solver: Simulated Annealing\n",
    "\n",
    "Results obtained thus far have been reasonable, because the problems have been small. To attack larger problems efficiently, and to introduce first concepts of heuristic methods, we turn to a classic: **simulated annealing**\n",
    "* [Main idea in three diagrams](imgs/sa.jpg)\n",
    "* [Pseudo-code](imgs/sa-pseudocode.png) \n",
    "\n",
    "We run the previous exercise using simulated annealing, observing that (on average) better objective value is obtained with the same computation budget. \n",
    "\n",
    "### Basic concepts\n",
    "\n",
    "**Local search** relies on a definition of a **neighborhood** of a given design. For example, the neighboring layouts of a keyboard layouts are those that can be constructed by swapping a pair of letters. Starting from an initial configuration, local search proceeds by chosing a neighboring configuration with an objective value that is at least as good as the current one. These choices could be, for example, greedy or randomized.\n",
    "\n",
    "**Simulated Annealing** exploits local and random search in a exploration/exploitation scheme. A neighboring configuration is not only chosen when it yields to a better objective value but also with a certain probability when it is worse. However, this probability decreases with the extent of the detoriation of the objective value (temperature). \n",
    "\n",
    "<p>\n",
    "<div class=\"alert alert-block alert-success\"> \n",
    "<h3>Exercise: Define a 'neighboring design' for simulated annealing</h3> \n",
    "<br>\n",
    "To use SA, need to add a function that allows the simulated annealer to explore the *neighborhood* of a current design. While there are many possibilities to construct a neighborhood. Your task is to define one. Bonus: Define control parameter 'n' for distance in the neighborhood.</div>\n",
    "</p>"
   ]
  },
  {
   "cell_type": "code",
   "execution_count": 122,
   "metadata": {},
   "outputs": [
    {
     "name": "stdout",
     "output_type": "stream",
     "text": [
      "Objective value: 4.002541067322677\n"
     ]
    },
    {
     "data": {
      "image/svg+xml": [
       "<svg height=\"180\" version=\"1.1\" width=\"680\" xmlns=\"http://www.w3.org/2000/svg\"><polygon fill=\"white\" points=\"0,0 670,0 670,170 0,170\" stroke=\"black\"/><polygon fill=\"steelblue\" points=\"10,10 110,10 110,80 10,80\" stroke=\"black\"/><polygon fill=\"steelblue\" points=\"120,10 220,10 220,80 120,80\" stroke=\"black\"/><polygon fill=\"steelblue\" points=\"230,10 330,10 330,80 230,80\" stroke=\"black\"/><polygon fill=\"steelblue\" points=\"340,10 440,10 440,80 340,80\" stroke=\"black\"/><polygon fill=\"white\" points=\"450,10 550,10 550,80 450,80\" stroke=\"black\"/><polygon fill=\"white\" points=\"560,10 660,10 660,80 560,80\" stroke=\"black\"/><polygon fill=\"white\" points=\"10,90 110,90 110,160 10,160\" stroke=\"black\"/><polygon fill=\"steelblue\" points=\"120,90 220,90 220,160 120,160\" stroke=\"black\"/><polygon fill=\"dimgrey\" points=\"230,90 330,90 330,160 230,160\" stroke=\"black\"/><polygon fill=\"dimgrey\" points=\"340,90 440,90 440,160 340,160\" stroke=\"black\"/><polygon fill=\"dimgrey\" points=\"450,90 550,90 550,160 450,160\" stroke=\"black\"/><polygon fill=\"white\" points=\"560,90 660,90 660,160 560,160\" stroke=\"black\"/><text font-size=\"25\" x=\"335\" y=\"46\"/><text font-size=\"25\" x=\"28\" y=\"56\">Mail</text><text font-size=\"25\" x=\"141\" y=\"56\">Cal</text><text font-size=\"25\" x=\"245\" y=\"56\">Tasks</text><text font-size=\"25\" x=\"355\" y=\"56\">Notes</text><text font-size=\"25\" x=\"465\" y=\"56\">Drive</text><text font-size=\"25\" x=\"575\" y=\"56\">Admin</text><text font-size=\"25\" x=\"28\" y=\"136\">News</text><text font-size=\"25\" x=\"141\" y=\"136\">Ppl</text><text font-size=\"25\" x=\"251\" y=\"136\">PPT</text><text font-size=\"25\" x=\"358\" y=\"136\">Word</text><text font-size=\"25\" x=\"465\" y=\"136\">Excel</text><text font-size=\"25\" x=\"575\" y=\"136\">Sites</text></svg>"
      ],
      "text/plain": [
       "<IPython.core.display.SVG object>"
      ]
     },
     "execution_count": 122,
     "metadata": {},
     "output_type": "execute_result"
    }
   ],
   "source": [
    "# Returns a neighbor of a layout (list); \n",
    "# has a parameter 'n' to control distance in the neighborhood (optional) \n",
    "\n",
    "def neighbor(layout, n=1):\n",
    "    \"\"\"\n",
    "    Returns a neighbor of a layout (list);\n",
    "    has a parameter 'n' to control distance in the neighborhood (optional)\n",
    "    \"\"\"\n",
    "    # Choose a random element from layout\n",
    "    i = random.randrange(0, len(layout))\n",
    "\n",
    "    # Filter all elements that have distance over n.\n",
    "    canditates = []\n",
    "    for j in range(len(layout)):\n",
    "        if i == j:\n",
    "            continue\n",
    "        if distance(columns, i, j) <= n:\n",
    "            canditates.append(j)\n",
    "\n",
    "    # Choose a random element from remaining elements\n",
    "    j = random.choice(canditates)\n",
    "\n",
    "    # Swap the elements i and j.\n",
    "    new_layout = layout[:]\n",
    "    new_layout[i] = layout[j]\n",
    "    new_layout[j] = layout[i]\n",
    "    return new_layout\n",
    "\n",
    "# Solver: Simulated annealing using exponential cooling schedule\n",
    "def anneal(k_max, *args):\n",
    "    s = args[0] # solution seed\n",
    "    columns = args[1] \n",
    "    obj_f = args[2]\n",
    "    o_inputs = args[3:]\n",
    "    s_ov = obj_f(s, columns, o_inputs)\n",
    "    T_min, T_initial, alpha = 0.0000001, 10000, 0.991 # Hyperparameters \n",
    "    converged = False\n",
    "    \n",
    "    for k in range (0, k_max):\n",
    "        T = max(T_min, T_initial * math.pow(alpha,k)) # exponential cooling schedule\n",
    "        s_new = neighbor(s[:], args[-1])\n",
    "        s_new_ov = obj_f(s_new, columns, o_inputs)\n",
    "\n",
    "        delta = s_new_ov - s_ov\n",
    "        if delta < 0: # accept the neighbor if it is better \n",
    "            s = s_new[:]\n",
    "            s_ov = s_new_ov\n",
    "        elif random.random() < math.exp(-delta/T): # if not, decide according to the Metropolis rule\n",
    "            s = s_new[:]\n",
    "            s_ov = s_new_ov\n",
    "    return s, s_ov\n",
    "\n",
    "# Task instance (same as above)\n",
    "seed_layout = ['Tasks','Word','Excel','PPT','Admin','Mail','Cal','Ppl','News','Drive','Sites','Notes']\n",
    "e_weights = {'Tasks':0.1,'Word':0.2,'Excel':0.15,'PPT':0.2,'Admin':0.05,'Mail':0.5,'Cal':0.4,'Ppl':0.4,'News':0.4,'Drive':0.2,'Sites':0.01, 'Notes':0.05}\n",
    "associations = {'WordExcel':0.5,'WordPPT':0.5,'MailCal':0.3,'PplCal':0.3,'TasksCal':0.2,'NotesTasks': 0.3}\n",
    "columns = 6\n",
    "\n",
    "# Optimization\n",
    "winner, winner_score = optimize(10000, anneal, seed_layout, columns, ST_and_myO, e_weights, associations, 4)\n",
    "\n",
    "# Present results\n",
    "print (\"Objective value:\", winner_score)\n",
    "SVGlayout = render.SVGlayout(winner,columns,10,associations)\n",
    "SVG(SVGlayout.inSVG)"
   ]
  },
  {
   "cell_type": "markdown",
   "metadata": {},
   "source": [
    "## Selected further readings\n",
    "\n",
    "* Karrenbauer, A., Oulasvirta, A. (2014). [Keyboard optimization with integer programming](http://resources.mpi-inf.mpg.de/keyboardoptimization/). Proc. UIST'14. \n",
    "* Oulasvirta, A. (2017). [User Interface Design with Combinatorial Optimization](http://users.comnet.aalto.fi/oulasvir/pubs/UIdesign_with_combinatorial_optimization_IEEEComputer_2017_Oulasvirta.pdf), IEEE Computer 50 (1).\n",
    "* Bailly, G. et al. (2013). [MenuOptimizer:  Interactive Optimization of Menu Systems](https://www.gillesbailly.fr/publis/BAILLY_MenuOptimizer.pdf), Proc. UIST 2013. \n",
    "* Todi, K. et al. [Sketchplorer: Sketch and explore with an optimizer](http://www.kashyaptodi.com/sketchplore/), Proc. DIS'16. \n",
    "* Micallef, L. et al. (2017). [Towards perceptual optimization of the visual design of scatterplots](http://ieeexplore.ieee.org/document/7864468/), IEEE TGCV\n",
    "* Feit, A., Oulasvirta, A. (2105). [Exercises in assignment problems in keyboard design](https://www.slideshare.net/oulasvir/modelbased-user-interface-optimization-part-ii-letter-assignment-at-sicsa-summer-school-on-computational-interaction-2015?qid=4320d34c-8c76-42c8-9cd3-69b2260dbc3a&v=&b=&from_search=2), Lecture notes from 1st Computational Interaction Summer School 2015, Glasgow"
   ]
  },
  {
   "cell_type": "code",
   "execution_count": 175,
   "metadata": {},
   "outputs": [],
   "source": [
    "from collections import defaultdict\n",
    "# Optimization\n",
    "r = [2000, 4000, 6000, 8000, 10000]\n",
    "trials = 10\n",
    "d_anneal = defaultdict(list)\n",
    "d_random = defaultdict(list)\n",
    "for iterations in r:\n",
    "    for _ in range(trials):\n",
    "        winner, winner_score = optimize(\n",
    "            iterations, anneal, seed_layout, columns, ST_and_myO, e_weights,\n",
    "            associations, 1.1)\n",
    "        d_anneal[iterations].append(winner_score)\n",
    "\n",
    "        winner, winner_score = optimize(\n",
    "            iterations, random_search, seed_layout, columns, ST_and_myO, e_weights,\n",
    "            associations)\n",
    "        d_random[iterations].append(winner_score)"
   ]
  },
  {
   "cell_type": "code",
   "execution_count": 185,
   "metadata": {},
   "outputs": [
    {
     "ename": "AttributeError",
     "evalue": "'AxesSubplot' object has no attribute 'xlabel'",
     "output_type": "error",
     "traceback": [
      "\u001b[0;31m---------------------------------------------------------------------------\u001b[0m",
      "\u001b[0;31mAttributeError\u001b[0m                            Traceback (most recent call last)",
      "\u001b[0;32m<ipython-input-185-aff928b553cb>\u001b[0m in \u001b[0;36m<module>\u001b[0;34m()\u001b[0m\n\u001b[1;32m     10\u001b[0m \u001b[0;34m\u001b[0m\u001b[0m\n\u001b[1;32m     11\u001b[0m \u001b[0;31m# plt.legend()\u001b[0m\u001b[0;34m\u001b[0m\u001b[0;34m\u001b[0m\u001b[0m\n\u001b[0;32m---> 12\u001b[0;31m \u001b[0max\u001b[0m\u001b[0;34m.\u001b[0m\u001b[0mxlabel\u001b[0m\u001b[0;34m(\u001b[0m\u001b[0;34m\"Iterations\"\u001b[0m\u001b[0;34m)\u001b[0m\u001b[0;34m\u001b[0m\u001b[0m\n\u001b[0m\u001b[1;32m     13\u001b[0m \u001b[0max\u001b[0m\u001b[0;34m.\u001b[0m\u001b[0mylabel\u001b[0m\u001b[0;34m(\u001b[0m\u001b[0;34m\"$f(x)$\"\u001b[0m\u001b[0;34m)\u001b[0m\u001b[0;34m\u001b[0m\u001b[0m\n\u001b[1;32m     14\u001b[0m \u001b[0;31m# plt.savefig(\"annealing_vs_random_search_n1.png\")\u001b[0m\u001b[0;34m\u001b[0m\u001b[0;34m\u001b[0m\u001b[0m\n",
      "\u001b[0;31mAttributeError\u001b[0m: 'AxesSubplot' object has no attribute 'xlabel'"
     ]
    }
   ],
   "source": [
    "import matplotlib.pyplot as plt\n",
    "import seaborn as sns\n",
    "sns.set()\n",
    "\n",
    "for key, values in d_anneal.items():\n",
    "    plt.scatter([key for _ in range(len(values))], values, color='b', alpha=0.7)\n",
    "for key, values in d_random.items():\n",
    "    plt.scatter([key for _ in range(len(values))], values, color='y', alpha=0.7)\n",
    "\n",
    "# plt.legend()\n",
    "plt.xlabel(\"Iterations\")\n",
    "plt.ylabel(\"$f(x)$\")\n",
    "plt.savefig(\"annealing_vs_random_search_n1.png\")\n",
    "plt.show()"
   ]
  }
 ],
 "metadata": {
  "anaconda-cloud": {},
  "kernelspec": {
   "display_name": "Python [default]",
   "language": "python",
   "name": "python3"
  },
  "language_info": {
   "codemirror_mode": {
    "name": "ipython",
    "version": 3
   },
   "file_extension": ".py",
   "mimetype": "text/x-python",
   "name": "python",
   "nbconvert_exporter": "python",
   "pygments_lexer": "ipython3",
   "version": "3.6.6"
  }
 },
 "nbformat": 4,
 "nbformat_minor": 2
}
