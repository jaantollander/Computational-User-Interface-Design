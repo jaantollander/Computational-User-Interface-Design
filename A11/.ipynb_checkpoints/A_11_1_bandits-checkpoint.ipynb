{
 "cells": [
  {
   "cell_type": "markdown",
   "metadata": {},
   "source": [
    "# A11.1 - Modifying the Bandits Problem and the $ε$-Greedy Solver"
   ]
  },
  {
   "cell_type": "markdown",
   "metadata": {},
   "source": [
    "* Jaan Tollander de Balsch, 452056"
   ]
  },
  {
   "cell_type": "code",
   "execution_count": 79,
   "metadata": {
    "collapsed": true
   },
   "outputs": [],
   "source": [
    "import time\n",
    "import random\n",
    "from functools import partial\n",
    "from random import uniform\n",
    "\n",
    "import numpy as np\n",
    "import scipy.stats\n",
    "import matplotlib.pyplot as plt"
   ]
  },
  {
   "cell_type": "markdown",
   "metadata": {},
   "source": [
    "## Bernoulli-Uniform Bandit\n",
    "The **reward** $r$ is a random number sampled from a probability distribution. The distributions are assumed to be known and independent, but the parameters unknown. For example, the reward for *Bernoulli-Uniform* bandit is\n",
    "$$\n",
    "r∼\\operatorname{Bernoulli}(θ)⋅\\operatorname{Uniform}(l,h)\n",
    "$$\n",
    "where $θ∈[0,1]$ and $l,h∈ℝ, l≤h$. The expected reward for action $a$ is\n",
    "$$\n",
    "\\begin{aligned}\n",
    "𝔼[r∣a] & = 𝔼[\\operatorname{Bernoulli}(θ)]⋅𝔼[\\operatorname{Uniform}(l,h)] \\\\ & =\n",
    "θ ⋅ (l+h)/2.\n",
    "\\end{aligned}\n",
    "$$\n",
    "\n",
    "Other distributions could be used in similar way."
   ]
  },
  {
   "cell_type": "code",
   "execution_count": 80,
   "metadata": {
    "collapsed": true
   },
   "outputs": [],
   "source": [
    "class BernoulliUniformBandit(object):\n",
    "    def __init__(self, n, thetas, lows, highs):\n",
    "        assert len(thetas) == len(lows) == len(highs) == n\n",
    "        self.n = n\n",
    "        self.thetas = thetas\n",
    "        self.lows = lows\n",
    "        self.highs = highs\n",
    "        self.rewards = [t * (l + h) / 2 for (t, l, h) in\n",
    "                        zip(thetas, lows, highs)]\n",
    "        self.best_reward = max(self.rewards)\n",
    "\n",
    "    def pull_arm(self, i):\n",
    "        # Pull i-th arm and return reward\n",
    "        if np.random.random() < self.thetas[i]:\n",
    "            return uniform(self.lows[i], self.highs[i])\n",
    "        else:\n",
    "            return 0"
   ]
  },
  {
   "cell_type": "markdown",
   "metadata": {},
   "source": [
    "## Epsilon-Greedy with Decreasing Epsilon\n",
    "The Epsilon-Greedy should be modified such that initially it explores more in order to estimate the action values and as time increases and the evidence for action value estimates increase, the epsilon should decrease such that the best arm is exploited more often.\n",
    "\n",
    "A naive formulation of epsilon $ε_t$ is to formulate it as a decreasing function $ε_{t+1}<ε_t$ of time $t$ starting from initial epsilon $ε_0$ decreasing towards zero as time tends towards infinity $t→∞$. For example,\n",
    "$$\n",
    "ε_t=\\frac{ε_0}{t^{c}}\n",
    "$$\n",
    "where $c∈ℝ$ is a parameter that controls the rate of the decrease. For larger number of bandits the rate of decrease should be set lower. If $c=0$ the approach reduces to normal Epsilon-Greedy."
   ]
  },
  {
   "cell_type": "code",
   "execution_count": 81,
   "metadata": {
    "collapsed": true
   },
   "outputs": [],
   "source": [
    "class Solver(object):\n",
    "    def __init__(self, bandit):\n",
    "        \"\"\"\n",
    "        bandit (Bandit): the target bandit to solve\n",
    "        \"\"\"\n",
    "        assert isinstance(bandit, BernoulliUniformBandit)\n",
    "        np.random.seed(int(time.time()))\n",
    "\n",
    "        self.bandit = bandit\n",
    "\n",
    "        self.counts = [0] * self.bandit.n\n",
    "        self.actions = []  # History of actions (list of arms pulled)\n",
    "        self.regret = 0.  # Cumulative regret\n",
    "        self.regrets = [0.]  # History of cumulative regrets\n",
    "\n",
    "    def update_regret(self, i):\n",
    "        # i: index of selected arm\n",
    "        self.regret += self.bandit.best_reward - self.bandit.rewards[i]\n",
    "        self.regrets.append(self.regret)\n",
    "\n",
    "    @property\n",
    "    def estimated_rewards(self):\n",
    "        raise NotImplementedError\n",
    "\n",
    "    def run_one_step(self):\n",
    "        \"\"\"Return the arm index to take action on.\"\"\"\n",
    "        raise NotImplementedError\n",
    "\n",
    "    def run(self, num_steps):\n",
    "        assert self.bandit is not None\n",
    "        for _ in range(num_steps):\n",
    "            i = self.run_one_step()\n",
    "\n",
    "            self.counts[i] += 1\n",
    "            self.actions.append(i)\n",
    "            self.update_regret(i)\n",
    "\n",
    "\n",
    "class EpsilonGreedy(Solver):\n",
    "    def __init__(self, bandit, epsilon0, rate=0.0, init_reward=1.0):\n",
    "        \"\"\"\n",
    "        epsilon (float): the probability to explore\n",
    "        init_theta (float): We optimistically set initial theta to be 1.0\n",
    "\n",
    "        Parameters\n",
    "        ----------\n",
    "        rate\n",
    "        \"\"\"\n",
    "        super(EpsilonGreedy, self).__init__(bandit)\n",
    "        assert 0. <= epsilon0 <= 1.0\n",
    "        self.epsilon0 = epsilon0\n",
    "        self.rate = rate\n",
    "        # Optimisistic initialisation\n",
    "        self.estimates = [init_reward] * self.bandit.n\n",
    "        self.name = f\"Epsilon-Greedy (epsilon={epsilon0}, rate={rate})\"\n",
    "        self.time = 0\n",
    "\n",
    "    @property\n",
    "    def estimated_rewards(self):\n",
    "        return self.estimates\n",
    "\n",
    "    def run_one_step(self):\n",
    "        self.time += 1\n",
    "        epsilon = self.epsilon0 / self.time ** self.rate\n",
    "        if np.random.random() < epsilon:\n",
    "            # We are going to explore\n",
    "            i = np.random.randint(0, self.bandit.n)  # Pick a random arm\n",
    "        else:\n",
    "            # We are going to exploit\n",
    "            i = max(range(self.bandit.n), key=lambda x: self.estimates[x])\n",
    "\n",
    "        reward = self.bandit.pull_arm(i)  # Pull arm i and get reward\n",
    "        # Update estimate for arm i\n",
    "        self.estimates[i] += 1. / (self.counts[i] + 1) * \\\n",
    "                             (reward - self.estimates[i])\n",
    "        return i\n",
    "\n",
    "\n",
    "def run_solver(solver, trials=20, iterations=1000):\n",
    "    regret_history = []\n",
    "    for trial in range(trials):\n",
    "        solver.regret = 0\n",
    "        solver.regrets = []\n",
    "        solver.run(iterations)\n",
    "        regret_history.append(solver.regret)\n",
    "    print(solver.name, np.mean(regret_history), \"+/-\", np.std(regret_history))"
   ]
  },
  {
   "cell_type": "markdown",
   "metadata": {},
   "source": [
    "## Results"
   ]
  },
  {
   "cell_type": "code",
   "execution_count": 82,
   "metadata": {
    "collapsed": true
   },
   "outputs": [],
   "source": [
    "bandit1 = BernoulliUniformBandit(\n",
    "    3, \n",
    "    [0.15, 0.30, 0.60], \n",
    "    [2, 1.5, 1], \n",
    "    [2, 1.5, 1]\n",
    ")\n",
    "\n",
    "bandit2 = BernoulliUniformBandit(\n",
    "    3, \n",
    "    [0.15, 0.30, 0.60], \n",
    "    [2, 1, 1], \n",
    "    [2, 3, 2]\n",
    ")\n",
    "\n",
    "bandit3 = BernoulliUniformBandit(\n",
    "    3, \n",
    "    [0.10, 0.30, 0.60], \n",
    "    [10, 1, 1], \n",
    "    [20, 20, 5]\n",
    ")\n",
    "\n",
    "bandit4 = BernoulliUniformBandit(\n",
    "    3, \n",
    "    [0.01, 0.30, 0.60], \n",
    "    [1000, 10, 10], \n",
    "    [2000, 50, 15]\n",
    ")\n",
    "\n",
    "bandit5 = BernoulliUniformBandit(\n",
    "    3, \n",
    "    [1, 1, 1], \n",
    "    [1, 1, 1], \n",
    "    [100, 110, 120]\n",
    ")"
   ]
  },
  {
   "cell_type": "code",
   "execution_count": null,
   "metadata": {
    "collapsed": true
   },
   "outputs": [
    {
     "name": "stdout",
     "output_type": "stream",
     "text": [
      "Epsilon-Greedy (epsilon=1.0, rate=0.5) 7.672499999999992 +/- 9.742759811778145\n",
      "Expected rewards per arm: [0.3, 0.44999999999999996, 0.6]\n",
      "Actions per arm:          [17.95, 15.25, 9966.8]\n",
      "\n"
     ]
    },
    {
     "data": {
      "image/png": "[encoded data removed]",
      "text/plain": [
       "<Figure size 432x288 with 1 Axes>"
      ]
     },
     "metadata": {
      "needs_background": "light"
     },
     "output_type": "display_data"
    },
    {
     "name": "stdout",
     "output_type": "stream",
     "text": [
      "Epsilon-Greedy (epsilon=1.0, rate=0.5) 13.739999999999998 +/- 14.53486842045705\n",
      "Expected rewards per arm: [0.3, 0.6, 0.8999999999999999]\n",
      "Actions per arm:          [15.55, 14.7, 9969.75]\n",
      "\n"
     ]
    },
    {
     "data": {
      "image/png": "[encoded data removed]",
      "text/plain": [
       "<Figure size 432x288 with 1 Axes>"
      ]
     },
     "metadata": {
      "needs_background": "light"
     },
     "output_type": "display_data"
    },
    {
     "name": "stdout",
     "output_type": "stream",
     "text": [
      "Epsilon-Greedy (epsilon=1.0, rate=0.5) 45.059999999999995 +/- 36.54716678485489\n",
      "Expected rewards per arm: [1.5, 3.15, 1.7999999999999998]\n",
      "Actions per arm:          [15.65, 9970.1, 14.25]\n",
      "\n"
     ]
    },
    {
     "data": {
      "image/png": "[encoded data removed]",
      "text/plain": [
       "<Figure size 432x288 with 1 Axes>"
      ]
     },
     "metadata": {
      "needs_background": "light"
     },
     "output_type": "display_data"
    },
    {
     "name": "stdout",
     "output_type": "stream",
     "text": [
      "Epsilon-Greedy (epsilon=1.0, rate=0.5) 26241.975 +/- 29064.25187471501\n",
      "Expected rewards per arm: [15.0, 9.0, 7.5]\n",
      "Actions per arm:          [5629.9, 4355.85, 14.25]\n",
      "\n"
     ]
    },
    {
     "data": {
      "image/png": "[encoded data removed]",
      "text/plain": [
       "<Figure size 432x288 with 1 Axes>"
      ]
     },
     "metadata": {
      "needs_background": "light"
     },
     "output_type": "display_data"
    }
   ],
   "source": [
    "%matplotlib inline\n",
    "# Run experiment for each solver\n",
    "for bandit in [bandit1, bandit2, bandit3, bandit4, bandit5]:\n",
    "    # Instantiate solvers\n",
    "    solvers = [\n",
    "    #     EpsilonGreedy(bandit, 0.1, 0.0),\n",
    "        EpsilonGreedy(bandit, 1.0, 1 / 2)\n",
    "    ]\n",
    "    for solver in solvers:\n",
    "        num_trials = 20\n",
    "        num_iterations = 10000\n",
    "        run_solver(solver, num_trials, num_iterations)\n",
    "        action_count = []\n",
    "        for arm in range(bandit.n):\n",
    "            action_count.append(solver.actions.count(arm) / num_trials)\n",
    "        # Print number of times each arm was pulled\n",
    "        print(f\"Expected rewards per arm: {bandit.rewards}\")\n",
    "        print(f\"Actions per arm:          {action_count}\\n\")  \n",
    "\n",
    "    plt.figure()\n",
    "    for solver in solvers:\n",
    "        plt.plot(solver.regrets, label=solver.name)\n",
    "\n",
    "    plt.legend()\n",
    "    plt.xlabel('time step')\n",
    "    plt.ylabel('cumulative regret')\n",
    "    plt.show()\n"
   ]
  }
 ],
 "metadata": {
  "kernelspec": {
   "display_name": "Python [conda env:cuid36]",
   "language": "python",
   "name": "conda-env-cuid36-py"
  },
  "language_info": {
   "codemirror_mode": {
    "name": "ipython",
    "version": 3
   },
   "file_extension": ".py",
   "mimetype": "text/x-python",
   "name": "python",
   "nbconvert_exporter": "python",
   "pygments_lexer": "ipython3",
   "version": "3.6.7"
  }
 },
 "nbformat": 4,
 "nbformat_minor": 2
}
